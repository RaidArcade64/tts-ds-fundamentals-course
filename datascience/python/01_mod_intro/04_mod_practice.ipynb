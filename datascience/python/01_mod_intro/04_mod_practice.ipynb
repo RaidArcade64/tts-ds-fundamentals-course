{
 "cells": [
  {
   "cell_type": "markdown",
   "metadata": {},
   "source": [
    "Data Science Fundamentals: Python |\n",
    "[Table of Contents](../index.ipynb)\n",
    "- - - \n",
    "<!--NAVIGATION-->\n",
    "Module 1. [Basic Python Syntax](./01_mod_python_syntax.ipynb) | [Variables and Objects](./02_python_variables_objects.ipynb) | [Operators](./03_python_operators.ipynb) | **[Exercises](./04_mod_practice.ipynb)**"
   ]
  },
  {
   "cell_type": "markdown",
   "metadata": {},
   "source": [
    "# Module 1: Practice Exercises"
   ]
  },
  {
   "cell_type": "markdown",
   "metadata": {},
   "source": [
    "1. Accept the user's first and last name and print them in reverse order with a space between them"
   ]
  },
  {
   "cell_type": "code",
   "execution_count": 9,
   "metadata": {},
   "outputs": [
    {
     "name": "stdout",
     "output_type": "stream",
     "text": [
      "User first name: Bryant\n",
      "User last name: Ayala\n",
      "Ayala Bryant\n"
     ]
    }
   ],
   "source": [
    "fname = input(\"User first name: \") #This code simply helps in establishing the printing aspect of the python and its format\n",
    "lname = input(\"User last name: \") #It also supports the idea on how freely the print output can be with all the code needed.\n",
    "print (lname, fname)\n"
   ]
  },
  {
   "cell_type": "markdown",
   "metadata": {},
   "source": [
    "2. Accept an integer (n) and compute the value of n+nn+nnn"
   ]
  },
  {
   "cell_type": "code",
   "execution_count": 8,
   "metadata": {},
   "outputs": [
    {
     "name": "stdout",
     "output_type": "stream",
     "text": [
      "Input an integer: 4\n",
      "492\n"
     ]
    }
   ],
   "source": [
    "b = int(input(\"Input an integer: \")) # In this code the main purpose of it is to format a value to a string.\n",
    "n1 = int(\"%s\" % b) # By doing so the integer that was written can be used as a value to form a string.\n",
    "n2 = int(\"%s%s\" % (b,b)) # For example the exercise is n+nn+nnn, which by adding the %s operator it changes to 4+44+444\n",
    "n3 = int(\"%s%s%s\" % (b,b,b)) # Which then = to 492.\n",
    "print(n1+n2+n3)"
   ]
  },
  {
   "cell_type": "markdown",
   "metadata": {},
   "source": [
    "3. Ask the user \"What country are you from?\" then print the following statement: \"I have heard that [input] is a beautiful country!\""
   ]
  },
  {
   "cell_type": "code",
   "execution_count": 3,
   "metadata": {},
   "outputs": [
    {
     "name": "stdout",
     "output_type": "stream",
     "text": [
      "What country are you from: United States\n",
      "I have heard that United States is a beautiful country!\n"
     ]
    }
   ],
   "source": [
    "Country = input(\"What country are you from: \") #Similar to the first question, this code helps in noting how to place the\n",
    "print (\"I have heard that\",Country, \"is a beautiful country!\") #input of the user and establish it within a print sentence."
   ]
  },
  {
   "cell_type": "markdown",
   "metadata": {},
   "source": [
    "4. Write a for loop that multiplies the number 4 by all the integers from 0 to 10 and prints the following for each: \"4 multiplied by [i] is [x]\" "
   ]
  },
  {
   "cell_type": "code",
   "execution_count": 4,
   "metadata": {},
   "outputs": [
    {
     "name": "stdout",
     "output_type": "stream",
     "text": [
      "4 x 0 = 0\n",
      "4 x 1 = 4\n",
      "4 x 2 = 8\n",
      "4 x 3 = 12\n",
      "4 x 4 = 16\n",
      "4 x 5 = 20\n",
      "4 x 6 = 24\n",
      "4 x 7 = 28\n",
      "4 x 8 = 32\n",
      "4 x 9 = 36\n",
      "4 x 10 = 40\n"
     ]
    }
   ],
   "source": [
    "for i in range(0,11): #This is the first instance of a for loop within python, while also mixing in the range operator to \n",
    "    print(4, \"x\", i, \"=\", 4 * i) #determine the amount of mathematical data needed for the output of the code.\n",
    "\n",
    "#Moreover, it contains information to show how to print an equation by having \"i\" (The operator that will have all of the\n",
    "#numbers that will be multiplied by 4) be shown and multiplied by 4 to receive the output needed."
   ]
  },
  {
   "cell_type": "markdown",
   "metadata": {},
   "source": [
    "5. Print a multiplication table that matches the following. Use two nested for loops to achieve this."
   ]
  },
  {
   "cell_type": "markdown",
   "metadata": {},
   "source": [
    "<img src=\"files/table.png\">"
   ]
  },
  {
   "cell_type": "code",
   "execution_count": 10,
   "metadata": {},
   "outputs": [
    {
     "name": "stdout",
     "output_type": "stream",
     "text": [
      "1\t2\t3\t4\t5\t6\t7\t8\t9\t10\t\n",
      "\n",
      "2\t4\t6\t8\t10\t12\t14\t16\t18\t20\t\n",
      "\n",
      "3\t6\t9\t12\t15\t18\t21\t24\t27\t30\t\n",
      "\n",
      "4\t8\t12\t16\t20\t24\t28\t32\t36\t40\t\n",
      "\n",
      "5\t10\t15\t20\t25\t30\t35\t40\t45\t50\t\n",
      "\n",
      "6\t12\t18\t24\t30\t36\t42\t48\t54\t60\t\n",
      "\n",
      "7\t14\t21\t28\t35\t42\t49\t56\t63\t70\t\n",
      "\n",
      "8\t16\t24\t32\t40\t48\t56\t64\t72\t80\t\n",
      "\n",
      "9\t18\t27\t36\t45\t54\t63\t72\t81\t90\t\n",
      "\n",
      "10\t20\t30\t40\t50\t60\t70\t80\t90\t100\t\n",
      "\n"
     ]
    }
   ],
   "source": [
    "for m in range(1,11):\n",
    "    for b in range(1,11):\n",
    "        print(m * b, end =\"\\t\")\n",
    "    print(\"\\n\")\n",
    "    \n",
    "#In this for loop, the code is to establish the vertical and horizontal range for both m and b values and multiply the\n",
    "#values within 1 to 10 (the reason why there is 11 rather than 10 is due to the range of lines and values that the program\n",
    "#establishes when noting the notations starting from position 0 which is 1 to position 10 that is written as 11.)"
   ]
  },
  {
   "cell_type": "markdown",
   "metadata": {},
   "source": [
    "6. Is a String Immutable in Python?\n",
    "\n",
    "# Yes they are, due to the fact that Python cannot let programmers alter any sort of code or content of an established object. These helps in dealing with errors, mistakes and bugs."
   ]
  },
  {
   "cell_type": "markdown",
   "metadata": {},
   "source": [
    "7. What is the output of x AND explain why that is the output for:"
   ]
  },
  {
   "cell_type": "raw",
   "metadata": {},
   "source": [
    "x = 36 / 4 * (3 +  2) * 4 + 2 \n",
    "\n",
    "x = 36 / 4 * (5) * 4 + 2\n",
    "\n",
    "x = 36 / 4 * 20 + 2\n",
    "\n",
    "x = 9 * 20 + 2\n",
    "\n",
    "x = 180 + 2\n",
    "\n",
    "x = 182\n",
    "\n",
    "#Step 1: When following the PEMDAS, parenthesis equations come first which add the numbers within the parenthesis which ends up being 5.\n",
    "\n",
    "#Step 2: From there, by multipliying 5 and 4, this results in a 20\n",
    "\n",
    "#Step 3: By dividing the 36/4 that results in a 9 and multiply it with 20, the result becomes 180\n",
    "\n",
    "#Step 4: Adding both the 180 with 2, the output for x is 182.\n",
    "\n",
    "Thye reason on why x is 182 is due to the PEMDAS rule, which establishes that in this equation the parenthesis, multiplication division and addition are being used here."
   ]
  },
  {
   "cell_type": "markdown",
   "metadata": {},
   "source": [
    "<!--NAVIGATION-->\n",
    "Module 1. [Basic Python Syntax](./01_mod_python_syntax.ipynb) | [Variables and Objects](./02_python_variables_objects.ipynb) | [Operators](./03_python_operators.ipynb) | **[Practice](./04_mod_practice.ipynb)**\n",
    "<br>\n",
    "[top](#)"
   ]
  },
  {
   "cell_type": "markdown",
   "metadata": {},
   "source": [
    "- - -\n",
    "\n",
    "Copyright © 2020 Qualex Consulting Services Incorporated."
   ]
  }
 ],
 "metadata": {
  "kernelspec": {
   "display_name": "Python 3 (ipykernel)",
   "language": "python",
   "name": "python3"
  },
  "language_info": {
   "codemirror_mode": {
    "name": "ipython",
    "version": 3
   },
   "file_extension": ".py",
   "mimetype": "text/x-python",
   "name": "python",
   "nbconvert_exporter": "python",
   "pygments_lexer": "ipython3",
   "version": "3.9.12"
  }
 },
 "nbformat": 4,
 "nbformat_minor": 4
}
